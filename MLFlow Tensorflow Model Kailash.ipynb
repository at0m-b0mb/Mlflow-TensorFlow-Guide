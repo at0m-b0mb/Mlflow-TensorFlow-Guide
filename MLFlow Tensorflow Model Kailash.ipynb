{
 "cells": [
  {
   "cell_type": "code",
   "execution_count": null,
   "id": "0adf9d77",
   "metadata": {},
   "outputs": [],
   "source": [
    "import tensorflow as tf\n",
    "import mlflow\n",
    "import numpy as np\n",
    "import matplotlib.pyplot as plt"
   ]
  },
  {
   "cell_type": "code",
   "execution_count": null,
   "id": "4a53ffea",
   "metadata": {},
   "outputs": [],
   "source": [
    "import sys\n",
    "sys.executable"
   ]
  },
  {
   "cell_type": "code",
   "execution_count": null,
   "id": "3e69a2aa",
   "metadata": {},
   "outputs": [],
   "source": [
    "!python --version"
   ]
  },
  {
   "cell_type": "code",
   "execution_count": null,
   "id": "2e30d041",
   "metadata": {},
   "outputs": [],
   "source": [
    "print(tf.__version__)"
   ]
  },
  {
   "cell_type": "code",
   "execution_count": null,
   "id": "3f3e2177",
   "metadata": {},
   "outputs": [],
   "source": [
    "print(mlflow.__version__)"
   ]
  },
  {
   "cell_type": "code",
   "execution_count": null,
   "id": "59ce7f94",
   "metadata": {},
   "outputs": [],
   "source": [
    "def load_data():\n",
    "    fashion_mnist = tf.keras.datasets.fashion_mnist\n",
    "    (train_images, train_labels), (test_images, test_labels) = fashion_mnist.load_data()\n",
    "    \n",
    "    class_names = ['T-shirt/top', 'Trouser', 'Pullover', 'Dress', 'Coat',\n",
    "               'Sandal', 'Shirt', 'Sneaker', 'Bag', 'Ankle boot']\n",
    "    \n",
    "    return train_images, train_labels, test_images, test_labels, class_names"
   ]
  },
  {
   "cell_type": "code",
   "execution_count": null,
   "id": "2aecf06c",
   "metadata": {},
   "outputs": [],
   "source": [
    "train_images, train_labels, test_images, test_labels, class_names= load_data()"
   ]
  },
  {
   "cell_type": "code",
   "execution_count": null,
   "id": "1750d826",
   "metadata": {},
   "outputs": [],
   "source": [
    "print(train_images.shape)\n",
    "#Each Label is between 0-9train_labels\n",
    "print(test_images.shape)"
   ]
  },
  {
   "cell_type": "code",
   "execution_count": null,
   "id": "be00d4f4",
   "metadata": {},
   "outputs": [],
   "source": [
    "def get_val_data(test_images, test_labels):\n",
    "    test_images_sub_arr = np.array_split(test_images, 2)\n",
    "    val_images = test_images_sub_arr[0]\n",
    "    test_images = test_images_sub_arr[1]\n",
    "    \n",
    "\n",
    "    test_labels_sub_arr = np.array_split(test_labels, 2)\n",
    "    val_labels = test_labels_sub_arr[0]\n",
    "    test_labels = test_labels_sub_arr[1]\n",
    "    \n",
    "    return val_images, val_labels, test_images, test_labels"
   ]
  },
  {
   "cell_type": "code",
   "execution_count": null,
   "id": "ee66e32d",
   "metadata": {},
   "outputs": [],
   "source": [
    "val_images, val_labels, test_images, test_labels = get_val_data(test_images, test_labels)"
   ]
  },
  {
   "cell_type": "code",
   "execution_count": null,
   "id": "0644444f",
   "metadata": {},
   "outputs": [],
   "source": [
    "print(val_images.shape)\n",
    "print(test_images.shape)\n",
    "\n",
    "print(val_labels.shape)\n",
    "print(test_labels.shape)"
   ]
  },
  {
   "cell_type": "markdown",
   "id": "eb63ca9f",
   "metadata": {},
   "source": [
    "### Preprocess the data\n",
    "\n",
    "The data must be preprocessed before training the network.\n",
    "\n",
    "**If you inspect the images in the training set, you will see that the pixel values fall in the range of 0 to 255.**"
   ]
  },
  {
   "cell_type": "code",
   "execution_count": null,
   "id": "974be6d6",
   "metadata": {},
   "outputs": [],
   "source": [
    "def check_image_pixel_values(single_image):\n",
    "    plt.figure()\n",
    "    plt.imshow(single_image)\n",
    "    plt.colorbar()\n",
    "    plt.grid(False)\n",
    "    plt.show()"
   ]
  },
  {
   "cell_type": "code",
   "execution_count": null,
   "id": "d66926dc",
   "metadata": {},
   "outputs": [],
   "source": [
    "check_image_pixel_values(train_images[1])"
   ]
  },
  {
   "cell_type": "markdown",
   "id": "a8b41b0b",
   "metadata": {},
   "source": [
    "### Image Scaling\n",
    "\n",
    "Scale these values to a range of 0 to 1 before feeding them to the neural network model. \n",
    "\n",
    "To do so, divide the values by 255. It's important that the training set, validation set and testing set be preprocessed in the same way:"
   ]
  },
  {
   "cell_type": "code",
   "execution_count": null,
   "id": "86382e8c",
   "metadata": {},
   "outputs": [],
   "source": [
    "def image_scaling(img_arr):\n",
    "    scaled_img = img_arr / 255.0\n",
    "    return scaled_img"
   ]
  },
  {
   "cell_type": "code",
   "execution_count": null,
   "id": "6de40636",
   "metadata": {},
   "outputs": [],
   "source": [
    "scaled_train_images = image_scaling(train_images)\n",
    "scaled_val_images = image_scaling(val_images)\n",
    "scaled_test_images = image_scaling(test_images)"
   ]
  },
  {
   "cell_type": "code",
   "execution_count": null,
   "id": "e5d92248",
   "metadata": {},
   "outputs": [],
   "source": [
    "def verify_data_format(img_arr, img_labels,class_names):\n",
    "    plt.figure(figsize=(10,10))\n",
    "    for i in range(25):\n",
    "        plt.subplot(5,5,i+1)\n",
    "        plt.xticks([])\n",
    "        plt.yticks([])\n",
    "        plt.grid(False)\n",
    "        plt.imshow(img_arr[i], cmap=plt.cm.binary)\n",
    "        plt.xlabel(class_names[img_labels[i]])\n",
    "    plt.show()"
   ]
  },
  {
   "cell_type": "code",
   "execution_count": null,
   "id": "bd839b08",
   "metadata": {
    "scrolled": true
   },
   "outputs": [],
   "source": [
    "verify_data_format(scaled_train_images, train_labels,class_names)"
   ]
  },
  {
   "cell_type": "code",
   "execution_count": null,
   "id": "f8dda54e",
   "metadata": {
    "scrolled": true
   },
   "outputs": [],
   "source": [
    "verify_data_format(scaled_val_images, val_labels,class_names)"
   ]
  },
  {
   "cell_type": "code",
   "execution_count": null,
   "id": "67a4a3dc",
   "metadata": {
    "scrolled": true
   },
   "outputs": [],
   "source": [
    "verify_data_format(scaled_test_images, test_labels,class_names)"
   ]
  },
  {
   "cell_type": "markdown",
   "id": "7dad71b2",
   "metadata": {},
   "source": [
    "### Build the model"
   ]
  },
  {
   "cell_type": "code",
   "execution_count": null,
   "id": "d3c24da4",
   "metadata": {},
   "outputs": [],
   "source": [
    "def tf_model_build():\n",
    "    model = tf.keras.Sequential([\n",
    "        tf.keras.layers.Flatten(input_shape=(28, 28)),\n",
    "        tf.keras.layers.Dense(128, activation='relu'),\n",
    "        tf.keras.layers.Dense(10)\n",
    "    ])\n",
    "    return model"
   ]
  },
  {
   "cell_type": "markdown",
   "id": "1ef19cf9",
   "metadata": {},
   "source": [
    "### Compile the model"
   ]
  },
  {
   "cell_type": "code",
   "execution_count": null,
   "id": "241f3308",
   "metadata": {},
   "outputs": [],
   "source": [
    "def tf_compile_model(model):\n",
    "    model.compile(optimizer='adam',\n",
    "                  loss=tf.keras.losses.SparseCategoricalCrossentropy(from_logits=True),\n",
    "                  metrics=['accuracy'])\n",
    "    return model"
   ]
  },
  {
   "cell_type": "markdown",
   "id": "f321aa9b",
   "metadata": {},
   "source": [
    "### Training the model"
   ]
  },
  {
   "cell_type": "code",
   "execution_count": null,
   "id": "c05f68ea",
   "metadata": {},
   "outputs": [],
   "source": [
    "import mlflow\n",
    "mlflow.tensorflow.autolog(every_n_iter=2)"
   ]
  },
  {
   "cell_type": "markdown",
   "id": "e36c51ac",
   "metadata": {},
   "source": [
    "Note:: Autologging is known to be compatible with the following package versions: ``2.3.0`` <= ``tensorflow`` <= ``2.12.0``. Autologging may not succeed when used with package versions outside of this range."
   ]
  },
  {
   "cell_type": "code",
   "execution_count": null,
   "id": "643a7821",
   "metadata": {},
   "outputs": [],
   "source": [
    "def tf_train_model(scaled_train_images, train_labels, epochs, batch_size, scaled_val_images, val_labels):\n",
    "    model.fit(scaled_train_images, \n",
    "              train_labels, \n",
    "              epochs=epochs, \n",
    "              batch_size=batch_size, \n",
    "              validation_data=(scaled_val_images, val_labels)\n",
    "             )\n",
    "    return model"
   ]
  },
  {
   "cell_type": "code",
   "execution_count": null,
   "id": "fab8ade1",
   "metadata": {
    "scrolled": true
   },
   "outputs": [],
   "source": [
    "model = tf_model_build()\n",
    "model = tf_compile_model(model)\n",
    "\n",
    "epochs = 10\n",
    "batch_size = 32\n",
    "model = tf_train_model(scaled_train_images, train_labels, epochs, batch_size, scaled_val_images, val_labels)\n"
   ]
  },
  {
   "cell_type": "markdown",
   "id": "4a66c3f3",
   "metadata": {},
   "source": [
    "### Evaluate Model in test Images"
   ]
  },
  {
   "cell_type": "code",
   "execution_count": null,
   "id": "c61f5153",
   "metadata": {},
   "outputs": [],
   "source": [
    "train_loss, train_acc = model.evaluate(scaled_train_images,  train_labels, verbose=2)\n",
    "print('\\ntrain accuracy:', train_acc)  "
   ]
  },
  {
   "cell_type": "code",
   "execution_count": null,
   "id": "3ec61b6b",
   "metadata": {},
   "outputs": [],
   "source": [
    "val_loss, val_acc = model.evaluate(scaled_val_images,  val_labels, verbose=2)\n",
    "print('\\nval accuracy:', val_acc)  "
   ]
  },
  {
   "cell_type": "code",
   "execution_count": null,
   "id": "3c044644",
   "metadata": {},
   "outputs": [],
   "source": [
    "test_loss, test_acc = model.evaluate(test_images,  test_labels, verbose=2)\n",
    "print('\\nTest accuracy:', test_acc)  "
   ]
  },
  {
   "cell_type": "code",
   "execution_count": null,
   "id": "ca1f245a",
   "metadata": {},
   "outputs": [],
   "source": [
    "predictions = model.predict(test_images)\n",
    "predictions[0]"
   ]
  },
  {
   "cell_type": "code",
   "execution_count": null,
   "id": "7f9e5fbc",
   "metadata": {},
   "outputs": [],
   "source": [
    "import numpy as np\n",
    "np.argmax(predictions[0])\n",
    "#Model is most confident that it's an ankle boot. Let's see if it's correct"
   ]
  },
  {
   "cell_type": "code",
   "execution_count": null,
   "id": "73f27085",
   "metadata": {},
   "outputs": [],
   "source": [
    "test_labels[0]"
   ]
  },
  {
   "cell_type": "code",
   "execution_count": null,
   "id": "1fb84de6",
   "metadata": {},
   "outputs": [],
   "source": [
    "class_names[0]"
   ]
  },
  {
   "cell_type": "markdown",
   "id": "d7b00c5c",
   "metadata": {},
   "source": [
    "## Experiment Tracking for Tensorflow based Models"
   ]
  },
  {
   "cell_type": "code",
   "execution_count": null,
   "id": "7bf40a56",
   "metadata": {},
   "outputs": [],
   "source": [
    "def tf_experiment_tracking(exp_name, run_name, batch_size, epochs, train_loss, train_acc, \n",
    "                           val_loss, val_acc, test_loss, test_acc, model_signature):\n",
    "    mlflow.set_experiment(exp_name)\n",
    "    with mlflow.start_run(run_name=run_name):\n",
    "        mlflow.log_param(\"batch_size\", batch_size)\n",
    "        #mlflow.log_param(\"learning_rate\", learning_rate)\n",
    "        mlflow.log_param(\"epochs\", epochs)\n",
    "        mlflow.log_metric(\"train_loss\", train_loss)\n",
    "        mlflow.log_metric(\"train_accuracy\", train_acc)\n",
    "        mlflow.log_metric(\"val_loss\", val_loss)\n",
    "        mlflow.log_metric(\"val_accuracy\", val_acc)\n",
    "        mlflow.log_metric(\"test_loss\", test_loss)\n",
    "        mlflow.log_metric(\"test_accuracy\", test_acc)\n",
    "        mlflow.tensorflow.log_model(model, \"mnist\", signature=model_signature)\n",
    "    mlflow.end_run()"
   ]
  },
  {
   "cell_type": "code",
   "execution_count": null,
   "id": "176ea2a2",
   "metadata": {},
   "outputs": [],
   "source": [
    "from mlflow.models.signature import infer_signature\n",
    "model_signature = infer_signature(scaled_test_images, model.predict(scaled_test_images))"
   ]
  },
  {
   "cell_type": "code",
   "execution_count": null,
   "id": "02258e74",
   "metadata": {},
   "outputs": [],
   "source": [
    "from datetime import datetime\n",
    "exp_timestamp = datetime.now().strftime(\"%Y%m%d\")\n",
    "exp_name = \"live_mnist_exp_\" + exp_timestamp\n",
    "print(exp_name)\n",
    "\n",
    "run_timestamp = datetime.now().strftime(\"%Y%m%d--%H%M%S\")\n",
    "run_name = \"live_mnist_exp_run_\"+ run_timestamp\n",
    "print(run_name)"
   ]
  },
  {
   "cell_type": "code",
   "execution_count": null,
   "id": "964bd600",
   "metadata": {},
   "outputs": [],
   "source": [
    "tf_experiment_tracking(exp_name, run_name, batch_size, epochs, train_loss, train_acc, \n",
    "                           val_loss, val_acc, test_loss, test_acc, model_signature)"
   ]
  },
  {
   "cell_type": "markdown",
   "id": "159e4497",
   "metadata": {},
   "source": [
    "## Load the model from mlflow run and do prediction"
   ]
  },
  {
   "cell_type": "code",
   "execution_count": null,
   "id": "5fc5a657",
   "metadata": {},
   "outputs": [],
   "source": [
    "import mlflow\n",
    "logged_model = 'runs:/960853ecebfb48ffad16b7f887217945/mnist'\n",
    "\n",
    "# Load model as a PyFuncModel.\n",
    "loaded_model = mlflow.pyfunc.load_model(logged_model)\n",
    "#test_images1 = scaled_test_images.astype('float64')\n",
    "predictions = loaded_model.predict(scaled_test_images)\n",
    "predictions[0]"
   ]
  },
  {
   "cell_type": "code",
   "execution_count": null,
   "id": "71afb01c",
   "metadata": {},
   "outputs": [],
   "source": [
    "predictions[4]"
   ]
  },
  {
   "cell_type": "code",
   "execution_count": null,
   "id": "b302cd16",
   "metadata": {},
   "outputs": [],
   "source": [
    "np.argmax(predictions[5])"
   ]
  },
  {
   "cell_type": "code",
   "execution_count": null,
   "id": "3955a792",
   "metadata": {},
   "outputs": [],
   "source": [
    "test_labels[5]"
   ]
  },
  {
   "cell_type": "code",
   "execution_count": null,
   "id": "c798362f",
   "metadata": {},
   "outputs": [],
   "source": [
    "class_names[5]"
   ]
  },
  {
   "cell_type": "code",
   "execution_count": null,
   "id": "439304b0",
   "metadata": {},
   "outputs": [],
   "source": [
    "probability_model = tf.keras.Sequential([model, \n",
    "                                         tf.keras.layers.Softmax()])"
   ]
  },
  {
   "cell_type": "code",
   "execution_count": null,
   "id": "949e9fdb",
   "metadata": {},
   "outputs": [],
   "source": [
    "predictions = probability_model.predict(scaled_test_images)"
   ]
  },
  {
   "cell_type": "code",
   "execution_count": null,
   "id": "17ec6296",
   "metadata": {},
   "outputs": [],
   "source": [
    "predictions[0]"
   ]
  },
  {
   "cell_type": "code",
   "execution_count": null,
   "id": "8759acbf",
   "metadata": {},
   "outputs": [],
   "source": [
    "np.argmax(predictions[0])"
   ]
  },
  {
   "cell_type": "markdown",
   "id": "6d2af7ee",
   "metadata": {},
   "source": [
    "https://www.tensorflow.org/tutorials/keras/classification"
   ]
  },
  {
   "cell_type": "markdown",
   "id": "39caaaee",
   "metadata": {},
   "source": [
    "## Thank You"
   ]
  }
 ],
 "metadata": {
  "kernelspec": {
   "display_name": "kailash",
   "language": "python",
   "name": "kailash"
  },
  "language_info": {
   "codemirror_mode": {
    "name": "ipython",
    "version": 3
   },
   "file_extension": ".py",
   "mimetype": "text/x-python",
   "name": "python",
   "nbconvert_exporter": "python",
   "pygments_lexer": "ipython3",
   "version": "3.10.13"
  }
 },
 "nbformat": 4,
 "nbformat_minor": 5
}
